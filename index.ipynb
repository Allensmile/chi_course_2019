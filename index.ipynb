{
 "cells": [
  {
   "cell_type": "markdown",
   "metadata": {},
   "source": [
    "\n",
    "# ACM SIGCHI 2019 Course on Computational Interaction with Bayesian Methods\n",
    "### Nikola Banovic, Per Ola Kristensson, Antti Oulasvirta, John Williamson\n",
    "\n",
    "<img src=\"imgs/chi2019_logo.png\">\n",
    "\n",
    "[See the course website for full details](http://pokristensson.com/chicourse19/)\n",
    "\n",
    "----\n",
    "\n",
    "\n",
    "## Notebooks\n",
    "\n",
    "*  [01_intro_to_bayesian_methods/](/1_intro_to_bayesian_methods/Introduction_to_Bayesian_Methods_in_HCI.ipynb) Introduction to Bayesian methods in HCI and Bayesian filtering to estimate state\n",
    "*  [02_decoding_symbols/](/2_decoding_symbols/decoding_symbols.ipynb)\n",
    "*  [03_bayesian_optimisation/](/3_bayesian_optimisation/bayesian_optimisation.ipynb)\n",
    "*  [04_modeling_behavior/](/4_modeling_behavior/modeling_behavior.ipynb)"
   ]
  }
 ],
 "metadata": {
  "kernelspec": {
   "display_name": "Python 3",
   "language": "python",
   "name": "python3"
  },
  "language_info": {
   "codemirror_mode": {
    "name": "ipython",
    "version": 3
   },
   "file_extension": ".py",
   "mimetype": "text/x-python",
   "name": "python",
   "nbconvert_exporter": "python",
   "pygments_lexer": "ipython3",
   "version": "3.7.1"
  }
 },
 "nbformat": 4,
 "nbformat_minor": 2
}
