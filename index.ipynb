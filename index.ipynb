{
 "cells": [
  {
   "cell_type": "markdown",
   "metadata": {},
   "source": [
    "\n",
    "# ACM SIGCHI 2019 Course on Computational Interaction with Bayesian Methods\n",
    "### Nikola Banovic, Per Ola Kristensson, Antti Oulasvirta, John Williamson\n",
    "\n",
    "<img src=\"imgs/chi2019_logo_final.png\">\n",
    "\n",
    "----\n",
    "\n",
    "\n",
    "## Notebooks\n",
    "\n",
    "Direct links to each of the notebooks in the course:\n",
    "\n",
    "*  [Intro to Bayesian methods](01_intro_to_bayesian_methods/Introduction_to_Bayesian_Methods_in_HCI.ipynb) / **John Williamson** \n",
    "*  [Decoding symbols](02_decoding_symbols/decoding_symbols.ipynb) / **Per Ola Kristensson**\n",
    "*  [Bayesian optimisation](03_bayesian_optimisation/bayesian_optimisation.ipynb) **Antti Oulasvirta**\n",
    "*  [Modeling behavior with graphical models](04_modeling_behavior/modeling_behavior.ipynb) **Nikola Banovic**"
   ]
  },
  {
   "cell_type": "code",
   "execution_count": null,
   "metadata": {},
   "outputs": [],
   "source": []
  }
 ],
 "metadata": {
  "kernelspec": {
   "display_name": "Python 3",
   "language": "python",
   "name": "python3"
  },
  "language_info": {
   "codemirror_mode": {
    "name": "ipython",
    "version": 3
   },
   "file_extension": ".py",
   "mimetype": "text/x-python",
   "name": "python",
   "nbconvert_exporter": "python",
   "pygments_lexer": "ipython3",
   "version": "3.7.1"
  }
 },
 "nbformat": 4,
 "nbformat_minor": 2
}
